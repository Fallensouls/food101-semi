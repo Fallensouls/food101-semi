{
 "metadata": {
  "language_info": {
   "codemirror_mode": {
    "name": "ipython",
    "version": 3
   },
   "file_extension": ".py",
   "mimetype": "text/x-python",
   "name": "python",
   "nbconvert_exporter": "python",
   "pygments_lexer": "ipython3",
   "version": "3.6.9-final"
  },
  "orig_nbformat": 2,
  "kernelspec": {
   "name": "python36964bit40d73d4f2e70422fa9f3465cc382e75e",
   "display_name": "Python 3.6.9 64-bit"
  }
 },
 "nbformat": 4,
 "nbformat_minor": 2,
 "cells": [
  {
   "cell_type": "code",
   "execution_count": 6,
   "metadata": {
    "tags": []
   },
   "outputs": [
    {
     "output_type": "stream",
     "name": "stdout",
     "text": [
      "{'apple_pie': 0, 'baby_back_ribs': 1, 'baklava': 2, 'beef_carpaccio': 3, 'beef_tartare': 4, 'beet_salad': 5, 'beignets': 6, 'bibimbap': 7, 'bread_pudding': 8, 'breakfast_burrito': 9, 'bruschetta': 10, 'caesar_salad': 11, 'cannoli': 12, 'caprese_salad': 13, 'carrot_cake': 14, 'ceviche': 15, 'cheesecake': 16, 'cheese_plate': 17, 'chicken_curry': 18, 'chicken_quesadilla': 19, 'chicken_wings': 20, 'chocolate_cake': 21, 'chocolate_mousse': 22, 'churros': 23, 'clam_chowder': 24, 'club_sandwich': 25, 'crab_cakes': 26, 'creme_brulee': 27, 'croque_madame': 28, 'cup_cakes': 29, 'deviled_eggs': 30, 'donuts': 31, 'dumplings': 32, 'edamame': 33, 'eggs_benedict': 34, 'escargots': 35, 'falafel': 36, 'filet_mignon': 37, 'fish_and_chips': 38, 'foie_gras': 39, 'french_fries': 40, 'french_onion_soup': 41, 'french_toast': 42, 'fried_calamari': 43, 'fried_rice': 44, 'frozen_yogurt': 45, 'garlic_bread': 46, 'gnocchi': 47, 'greek_salad': 48, 'grilled_cheese_sandwich': 49, 'grilled_salmon': 50, 'guacamole': 51, 'gyoza': 52, 'hamburger': 53, 'hot_and_sour_soup': 54, 'hot_dog': 55, 'huevos_rancheros': 56, 'hummus': 57, 'ice_cream': 58, 'lasagna': 59, 'lobster_bisque': 60, 'lobster_roll_sandwich': 61, 'macaroni_and_cheese': 62, 'macarons': 63, 'miso_soup': 64, 'mussels': 65, 'nachos': 66, 'omelette': 67, 'onion_rings': 68, 'oysters': 69, 'pad_thai': 70, 'paella': 71, 'pancakes': 72, 'panna_cotta': 73, 'peking_duck': 74, 'pho': 75, 'pizza': 76, 'pork_chop': 77, 'poutine': 78, 'prime_rib': 79, 'pulled_pork_sandwich': 80, 'ramen': 81, 'ravioli': 82, 'red_velvet_cake': 83, 'risotto': 84, 'samosa': 85, 'sashimi': 86, 'scallops': 87, 'seaweed_salad': 88, 'shrimp_and_grits': 89, 'spaghetti_bolognese': 90, 'spaghetti_carbonara': 91, 'spring_rolls': 92, 'steak': 93, 'strawberry_shortcake': 94, 'sushi': 95, 'tacos': 96, 'takoyaki': 97, 'tiramisu': 98, 'tuna_tartare': 99, 'waffles': 100}\n"
     ]
    }
   ],
   "source": [
    "from torch.utils.data import Dataset,DataLoader\n",
    "from torchvision import transforms\n",
    "from random import random\n",
    "from PIL import Image\n",
    "import time\n",
    "import cv2\n",
    "import numpy as np\n",
    "import re\n",
    "\n",
    "class LabeledDataset(Dataset):\n",
    "    def __init__(self,path,list):\n",
    "        self.list = list\n",
    "        self.len = len(list)\n",
    "        self.path = path\n",
    "        self.resize = transforms.Resize((64,64))\n",
    "\n",
    "    def __getitem__(self,index):\n",
    "        pic_path = os.path.join(self.path,'images',self.list[index]+'.jpg')\n",
    "        img = Image.open(pic_path).convert('RGB')\n",
    "        # img.show()\n",
    "        # img=cv2.resize(np.asarray(img),(64,64),interpolation=cv2.INTER_NEAREST)  #修改图片的尺寸\n",
    "        img = self.resize(img)\n",
    "        return np.array(img),self.list[index].split('/')[0]\n",
    "\n",
    "    def __len__(self):\n",
    "        return self.len\n",
    "\n",
    "class UnlabeledDataset(Dataset):\n",
    "    def __init__(self,path,list):\n",
    "        self.list = list\n",
    "        self.len = len(list)\n",
    "        self.path = path\n",
    "        self.resize = transforms.Resize((64,64))\n",
    "\n",
    "    def __getitem__(self,index):\n",
    "        pic_path = os.path.join(self.path,'images',self.list[index]+'.jpg')\n",
    "        img = Image.open(pic_path).convert('RGB')\n",
    "        img = self.resize(img)\n",
    "        return img\n",
    "\n",
    "    def __len__(self):\n",
    "        return self.len\n",
    "\n",
    "class TestDataset(Dataset):\n",
    "    def __init__(self,path,list):\n",
    "        self.list = list\n",
    "        self.len = len(list)\n",
    "        self.path = path\n",
    "        self.resize = transforms.Resize((64,64))\n",
    "\n",
    "    def __getitem__(self,index):\n",
    "        pic_path = os.path.join(self.path,'images',self.list[index].replace(\"\\n\",\"\")+'.jpg')\n",
    "        img = Image.open(pic_path).convert('RGB')\n",
    "        img = self.resize(img)\n",
    "        return np.asarray(img),self.list[index].split('/')[0]\n",
    "\n",
    "    def __len__(self):\n",
    "        return self.len\n",
    "\n",
    "\n",
    "def get_food101(path,LabeledPercent):\n",
    "    i=0\n",
    "    class_label={}\n",
    "    with open(os.path.join(path,'classes.txt'), 'r') as f:\n",
    "        line = f.readline()\n",
    "        while(line):\n",
    "            class_label[line.replace(\"\\n\",\"\")] = i\n",
    "            i+=1\n",
    "            line = f.readline()\n",
    "        \n",
    "    print(class_label)\n",
    "    with open(os.path.join(path,'train.txt'), 'r') as f:\n",
    "        picture_list = f.readlines()\n",
    "    LabeledList=[]\n",
    "    UnlabeledList=[]\n",
    "    for pic in picture_list:\n",
    "        if(random()>LabeledPercent):\n",
    "            UnlabeledList.append(pic.replace(\"\\n\",\"\"))\n",
    "        else:\n",
    "            LabeledList.append(pic.replace(\"\\n\",\"\"))\n",
    "    \n",
    "    with open(os.path.join(path,'test.txt'), 'r') as f:\n",
    "        test_list = f.readlines()\n",
    "    LabeledSet = LabeledDataset(path,LabeledList)\n",
    "    UnlabeledSet = UnlabeledDataset(path,UnlabeledList)\n",
    "    TestSet = TestDataset(path,test_list)\n",
    "    return LabeledSet,UnlabeledSet,TestSet\n",
    "\n",
    "\n",
    "LabeledSet,UnlabeledSet,TestSet = get_food101('./food-101/',0.01)\n",
    "# labeled_trainloader = DataLoader(\n",
    "#     LabeledSet,\n",
    "#     shuffle = True,\n",
    "#     batch_size=16,\n",
    "#     num_workers=4,\n",
    "#     drop_last=True)"
   ]
  },
  {
   "cell_type": "code",
   "execution_count": 23,
   "metadata": {},
   "outputs": [
    {
     "output_type": "stream",
     "name": "stdout",
     "text": [
      "('waffles', 'spaghetti_carbonara', 'garlic_bread', 'creme_brulee', 'omelette', 'nachos', 'macaroni_and_cheese', 'gyoza', 'cup_cakes', 'baklava', 'pork_chop', 'french_onion_soup', 'french_toast', 'gyoza', 'cup_cakes', 'macarons')\n"
     ]
    }
   ],
   "source": [
    "for img,label in labeled_trainloader:\n",
    "    for i in img:\n",
    "        Image.fromarray(np.array(i).astype('uint8')).convert('RGB').show()\n",
    "    print(label)\n",
    "    break"
   ]
  },
  {
   "cell_type": "code",
   "execution_count": 1,
   "metadata": {},
   "outputs": [],
   "source": [
    "from dataset.cifar import get_food101\n",
    "l,u,t = get_food101('./food-101/',0.2)"
   ]
  },
  {
   "cell_type": "code",
   "execution_count": 2,
   "metadata": {},
   "outputs": [
    {
     "output_type": "stream",
     "name": "stdout",
     "text": [
      "peking_duck\n",
      "74\n",
      "creme_brulee\n",
      "27\n",
      "torch.Size([2, 32, 32, 3])\n",
      "tensor([74, 27])\n",
      "apple_pie\n",
      "0\n",
      "gnocchi\n",
      "47\n",
      "croque_madame\n",
      "28\n",
      "pho\n",
      "75\n"
     ]
    }
   ],
   "source": [
    "from torch.utils.data import Dataset,DataLoader\n",
    "from PIL import Image\n",
    "import numpy as np\n",
    "labeled_trainloader = DataLoader(\n",
    "   l,\n",
    "   shuffle = True,\n",
    "   batch_size=2,\n",
    "   num_workers=1,\n",
    "   drop_last=True)\n",
    "labeled_iter = iter(labeled_trainloader)\n",
    "img, label = labeled_iter.next()\n",
    "print(img.shape)\n",
    "for i in img:\n",
    "    Image.fromarray(np.array(i).astype('uint8')).convert('RGB').show()\n",
    "print(label)"
   ]
  },
  {
   "cell_type": "code",
   "execution_count": null,
   "metadata": {},
   "outputs": [],
   "source": []
  }
 ]
}